{
  "nbformat": 4,
  "nbformat_minor": 0,
  "metadata": {
    "colab": {
      "provenance": [],
      "authorship_tag": "ABX9TyPUfo6y5poaDxW8Se8nTfnW",
      "include_colab_link": true
    },
    "kernelspec": {
      "name": "python3",
      "display_name": "Python 3"
    },
    "language_info": {
      "name": "python"
    }
  },
  "cells": [
    {
      "cell_type": "markdown",
      "metadata": {
        "id": "view-in-github",
        "colab_type": "text"
      },
      "source": [
        "<a href=\"https://colab.research.google.com/github/Atsumu-Hiranishi/6-23hw/blob/main/6_23hw.ipynb\" target=\"_parent\"><img src=\"https://colab.research.google.com/assets/colab-badge.svg\" alt=\"Open In Colab\"/></a>"
      ]
    },
    {
      "cell_type": "markdown",
      "source": [
        "#0 はじめに"
      ],
      "metadata": {
        "id": "8xBlO7hWhOq4"
      }
    },
    {
      "cell_type": "markdown",
      "source": [
        "- ここでは、コンピュータに関して、自分の記録も含めて、やってることを書いていこうと思います。非定期に更新していくので、github ですから、履歴を見るとわかると思います。<br> やりたいことは関数型プログラミングの実際　また同じことですが  **React**  また　スクレイピング。Selenium や　Puppeteer　また自然言語処理 BERT GPT-3 など　　Rus,t Go  ほかにもいいろいろです。データサイエンス関係も扱います。"
      ],
      "metadata": {
        "id": "0Cdy280shU4g"
      }
    }
  ]
}