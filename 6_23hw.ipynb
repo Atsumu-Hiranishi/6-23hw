{
  "nbformat": 4,
  "nbformat_minor": 0,
  "metadata": {
    "colab": {
      "provenance": [],
      "include_colab_link": true
    },
    "kernelspec": {
      "name": "python3",
      "display_name": "Python 3"
    },
    "language_info": {
      "name": "python"
    }
  },
  "cells": [
    {
      "cell_type": "markdown",
      "metadata": {
        "id": "view-in-github",
        "colab_type": "text"
      },
      "source": [
        "<a href=\"https://colab.research.google.com/github/Atsumu-Hiranishi/Test/blob/main/6_23hw.ipynb\" target=\"_parent\"><img src=\"https://colab.research.google.com/assets/colab-badge.svg\" alt=\"Open In Colab\"/></a>"
      ]
    },
    {
      "cell_type": "markdown",
      "source": [
        "# 6/18　**課題**"
      ],
      "metadata": {
        "id": "8xBlO7hWhOq4"
      }
    },
    {
      "cell_type": "markdown",
      "source": [
        " - **圏論**（カテゴリ論）とは\n",
        "   - ほぼ最も抽象的な数学の分野。\n",
        "   - 思考の中での話。認識論。\n",
        "   - 認識論は「ものとは何か」を学ぶのではなく「どうやって学べるか」を学ぶことができる。\n",
        "   - 圏論は幾何、代数、数論や集合論といった数学の異なる分野に類似性を見出した。\n",
        "\n",
        " - プログラミング言語の推移\n",
        "   - アセンブリ言語<br>\n",
        "   　コンピュータが正確に何をするか書く。チューリング機械に用いられる。\n",
        "   \n",
        "   　より高水準の抽象化をもたらす言語が必要になる。<br>　　 ↓\n",
        "   - 手続き型プログラミング<br> ↓\n",
        "   - オブジェクト指向プログラミング<br> ↓\n",
        "   - 関数型プログラミング<br> ↓\n",
        "   - ハスケル<br> ↓\n",
        "   - カテゴリ論\n",
        "<br><br>\n",
        "   下に行くほど抽象的でその言語から見るとそれより上の言語は同じように見える。\n",
        "\n",
        "\n",
        "\n"
      ],
      "metadata": {
        "id": "0Cdy280shU4g"
      }
    }
  ]
}